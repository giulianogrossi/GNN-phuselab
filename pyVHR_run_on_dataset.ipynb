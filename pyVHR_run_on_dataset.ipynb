{
  "cells": [
    {
      "cell_type": "markdown",
      "metadata": {
        "id": "view-in-github",
        "colab_type": "text"
      },
      "source": [
        "<a href=\"https://colab.research.google.com/github/giulianogrossi/imgs/blob/main/pyVHR_run_on_dataset.ipynb\" target=\"_parent\"><img src=\"https://colab.research.google.com/assets/colab-badge.svg\" alt=\"Open In Colab\"/></a>"
      ]
    },
    {
      "cell_type": "markdown",
      "source": [
        "---\n",
        "# **RUN on dataset**\n",
        "---"
      ],
      "metadata": {
        "id": "QRXPT-pww-M_"
      }
    },
    {
      "cell_type": "code",
      "source": [
        "from pyVHR.analysis.pipeline import Pipeline\n",
        "from pyVHR.analysis.stats import StatAnalysis\n",
        "from pyVHR.plot.visualize import *\n",
        "import os\n",
        "import pandas as pd\n",
        "import plotly.express as px\n",
        "\n",
        "# main functions \n",
        "\n",
        "def ANALYSIS(dataset, approach, metrics=['MAE'], j_data=False, writeFile=False):\n",
        "  \"\"\"Print boxplot analysis\"\"\"\n",
        "\n",
        "  cd = os.getcwd() # current dir\n",
        "  if not j_data:\n",
        "    print('## Dataset: ' + dataset)\n",
        "    print('   Approach: ' + approach)\n",
        "    path = path_results + dataset + \"_\" + approach + \".h5\"\n",
        "    filenameH5 = os.path.join(cd, path)\n",
        "    print('   h5      :', path)\n",
        "    cfg = path_results + dataset + \"_\" + approach + \".cfg\"\n",
        "    print('   cfg     :', cfg, end='\\n\\n')\n",
        "  else:\n",
        "    print('## Path dir: ' + dataset)\n",
        "    print('   Approach: ' + approach)\n",
        "    path = path_results + dataset \n",
        "    filenameH5 = os.path.join(cd, path)\n",
        "    print('   path  = ', path)\n",
        "\n",
        "  # boxplot\n",
        "  for m in metrics:\n",
        "    st = StatAnalysis(filenameH5, join_data=j_data)\n",
        "    if m=='MAE': \n",
        "      scale = 'log' \n",
        "    else: \n",
        "      scale = 'linear'\n",
        "    fig = st.displayBoxPlot(metric=m, scale=scale)\n",
        "    fig.show(renderer = \"colab\")\n",
        "    if writeFile:\n",
        "      filenamePNG = path_results + dataset + \"_\" + approach + \"_\" + m + \"_MAE.png\"\n",
        "      fig.write_image(filenamePNG)  \n",
        "\n",
        "def STATS(dataset, approach='clustering'):\n",
        "  \"\"\"Do stats analysis\"\"\"\n",
        "  \n",
        "  cd = os.getcwd() # current dir\n",
        "  path = path_results + dataset + \"_\" + approach + \".h5\"\n",
        "  df = pd.read_hdf(os.path.join(cd, path))\n",
        "  MAE_mean, MAE_std, MAE_median = np.round(df['MAE'].mean()[0],2),     np.round(df['MAE'].std(),2),  np.round(df['MAE'].median(),2)\n",
        "  RMSE_mean, RMSE_std, RMSE_median = np.round(df['RMSE'].mean()[0],2), np.round(df['RMSE'].std(),2), np.round(df['RMSE'].median(),2)\n",
        "  PCC_mean, PCC_std, PCC_median = np.round(df['PCC'].mean()[0],2),     np.round(df['PCC'].std(),2),  np.round(df['PCC'].median(),2)\n",
        "  CCC_mean, CCC_std, CCC_median = np.round(df['CCC'].mean()[0],2),     np.round(df['CCC'].std(),2),  np.round(df['CCC'].median(),2)\n",
        "  SNR_mean, SNR_std, SNR_median = np.round(df['SNR'].mean()[0],2),     np.round(df['SNR'].std(),2),  np.round(df['SNR'].median(),2)\n",
        "  MAX_mean, MAX_std, MAX_median = np.round(df['MAX'].mean()[0],2),     np.round(df['MAX'].std(),2),  np.round(df['MAX'].median(),2)\n",
        "\n",
        "  table = [[MAE_mean, MAE_std, MAE_median], [RMSE_mean, RMSE_std, RMSE_median], [PCC_mean, PCC_std, PCC_median],\n",
        "           [CCC_mean, CCC_std, CCC_median], [SNR_mean, SNR_std, SNR_median], [MAX_mean, MAX_std, MAX_median]]\n",
        "  stats = pd.DataFrame(table, columns = [ 'MEANS', 'STD', 'MEDIANS'], index=['MAE', 'RMSE', 'PCC', 'CCC', 'SNR', 'MAX'])\n",
        "\n",
        "  print('\\n** Stats table **')\n",
        "  print(stats)\n",
        "\t\t\t\t\t\n",
        "def RUN(dataset, method):\n",
        "  \"\"\"Run methods on a dataset\"\"\"\n",
        "\n",
        "  print('## Dataset: ' + dataset)\n",
        "  print('Using...')\n",
        "  cd = os.getcwd() # current dir\n",
        "  path = path_results + dataset + \"_\" + method + \".h5\"\n",
        "  print('   filename h5: ', path)\n",
        "  cfg = path_results + dataset + \"_\" + method + \".cfg\"\n",
        "  print('   cfg        :', cfg)\n",
        "  print('\\n')\n",
        "\n",
        "  # pipeline\n",
        "  pl = Pipeline()\n",
        "  res = pl.run_on_dataset(os.path.join(cd, cfg), verb=1)\n",
        "  res.saveResults(filenameH5)\n",
        "  print('Written file: ' + filenameH5 + '\\n\\n')\n",
        "\n",
        "def DETAILS(dataset, method, metric='MAE'):\n",
        "  \"\"\"Show performance details on each video of the dataset\"\"\"\n",
        "\n",
        "  #filenameH5 = path_results + dataset + \"_\" + method + \".h5\"\n",
        "  cd = os.getcwd() # current dir\n",
        "  path = path_results + dataset + \"_\" + method + \".h5\"\n",
        "  print('## Dataset: ' + dataset)\n",
        "  print('   filename h5: ', path)\n",
        "  df = pd.read_hdf(os.path.join(cd, path))\n",
        "  datasetname = df['dataset'][0].upper()\n",
        "  mets = set(list(df['method']))\n",
        "  for m in mets:\n",
        "    print('   method     :', m)\n",
        "    vals = df[df['method'] == m][metric]\n",
        "    fvideos = df[df['method'] == m]['videoFilename']\n",
        "    x = []\n",
        "    y = []\n",
        "    for i in vals.index:\n",
        "      n = fvideos[i]\n",
        "      n = n[n.rfind('/', 0, n.rfind('/'))+1:n.rfind('/')]\n",
        "      x.append(n)\n",
        "      y.append(vals[i][0])\n",
        "    fig = px.bar(x=x, y=y, title='dataset: ' + datasetname + ' method: ' + m)\n",
        "    fig.update_xaxes(type='category')\n",
        "    fig.show(renderer = \"colab\")\n"
      ],
      "metadata": {
        "id": "42viYZZRd_u5"
      },
      "execution_count": null,
      "outputs": []
    },
    {
      "cell_type": "markdown",
      "source": [
        "This notebook shows the complete **pipeline** that takes a **dataset** as input and computes an **estimation** of **BPMs** using a prespecified set of **rPPG** **methods**.\n",
        "\n",
        "Below are the possible choices for the methods.\n",
        "* **Methods**: `cpu_CHROM`, `cupy_CHROM`, `torch_CHROM`, `cpu_LGI`, `cpu_POS`, `cupy_POS`, `cpu_PBV`, `cpu_PCA`, `cpu_GREEN`, `cpu_OMIT`, `cpu_ICA`, `cpu_SSR`\n",
        "\n",
        "Below are the possible choices for the datasets.\n",
        "* **Datasets**: `PURE`, `UBFC1`, `UBFC2`, `ECG_Fitness_01-1`, `ECG_Fitness_01-2`... `ECG_Fitness_06-1`, `ECG_Fitness_06-2`"
      ],
      "metadata": {
        "id": "ifxqa2Hu0FAK"
      }
    },
    {
      "cell_type": "markdown",
      "source": [
        "#Runs"
      ],
      "metadata": {
        "id": "kGQEe3PcaWpV"
      }
    },
    {
      "cell_type": "code",
      "source": [
        "# run on dataset\n",
        "\n",
        "path_results = \"results/cfg/\" # general path for cfg\n",
        "\n",
        "#dataset = 'PURE'\n",
        "#RUN(dataset, 'holistic')\n",
        "#RUN(dataset, 'median')\n",
        "#RUN(dataset, 'clustering')\n",
        "\n",
        "#dataset = 'UBFC1'\n",
        "#RUN(dataset, 'holistic')\n",
        "#RUN(dataset, 'median')\n",
        "#RUN(dataset, 'clustering')\n",
        "\n",
        "#dataset = 'UBFC2'\n",
        "#RUN(dataset, 'holistic')\n",
        "#RUN(dataset, 'median')\n",
        "#RUN(dataset, 'clustering')\n",
        "\n",
        "#dataset = 'LGI_PPGI'\n",
        "#RUN(dataset, 'holistic')\n",
        "#RUN(dataset, 'median')\n",
        "#RUN(dataset, 'clustering')\n",
        "\n",
        "#dataset = 'ECG_Fitness_01-1'   FIN\n",
        "#RUN(dataset, 'holistic')\n",
        "#RUN(dataset, 'median')\n",
        "#RUN(dataset, 'clustering')\n",
        "\n",
        "#dataset = 'ECG_Fitness_01-2'   \n",
        "#RUN(dataset, 'holistic')\n",
        "#RUN(dataset, 'median')\n",
        "#RUN(dataset, 'clustering')\n",
        "\n",
        "#dataset = 'ECG_Fitness_02-1'\n",
        "#RUN(dataset, 'holistic')\n",
        "#RUN(dataset, 'median')\n",
        "#RUN(dataset, 'clustering')\n",
        "\n",
        "#dataset = 'ECG_Fitness_02-2'\n",
        "#RUN(dataset, 'holistic')\n",
        "#RUN(dataset, 'median')\n",
        "#RUN(dataset, 'clustering')\n",
        "\n",
        "#dataset = 'ECG_Fitness_03-1'\n",
        "#RUN(dataset, 'holistic')\n",
        "#RUN(dataset, 'median')\n",
        "#RUN(dataset, 'clustering')\n",
        "\n",
        "#dataset = 'ECG_Fitness_03-2'\n",
        "#RUN(dataset, 'holistic')\n",
        "#RUN(dataset, 'median')\n",
        "#RUN(dataset, 'clustering')\n",
        "\n",
        "#dataset = 'ECG_Fitness_04-1'\n",
        "#RUN(dataset, 'holistic')\n",
        "#RUN(dataset, 'median')\n",
        "#RUN(dataset, 'clustering')\n",
        "\n",
        "#dataset = 'ECG_Fitness_04-2'\n",
        "#RUN(dataset, 'holistic')\n",
        "#RUN(dataset, 'median')\n",
        "#RUN(dataset, 'clustering')\n",
        "\n",
        "#dataset = 'ECG_Fitness_05-1'\n",
        "#RUN(dataset, 'holistic')\n",
        "#RUN(dataset, 'median')\n",
        "#RUN(dataset, 'clustering')\n",
        "\n",
        "#dataset = 'ECG_Fitness_05-2'\n",
        "#RUN(dataset, 'holistic')\n",
        "#RUN(dataset, 'median')\n",
        "#RUN(dataset, 'clustering')\n",
        "\n",
        "#dataset = 'ECG_Fitness_06-1'\n",
        "#RUN(dataset, 'holistic')\n",
        "#RUN(dataset, 'median')\n",
        "#RUN(dataset, 'clustering')\n",
        "\n",
        "#dataset = 'ECG_Fitness_06-2'\n",
        "#RUN(dataset, 'holistic')\n",
        "#RUN(dataset, 'median')\n",
        "#RUN(dataset, 'clustering')"
      ],
      "metadata": {
        "id": "tMmWNHdDIUCZ"
      },
      "execution_count": null,
      "outputs": []
    },
    {
      "cell_type": "markdown",
      "source": [
        "# Analisys"
      ],
      "metadata": {
        "id": "vKol1iji8ATk"
      }
    },
    {
      "cell_type": "code",
      "source": [
        "## -- Holistic\n",
        "\n",
        "path_results = \"results/h5/\" # general path for cfg# general path for data\n",
        "\n",
        "dataset = 'UBFC2'\n",
        "ANALYSIS(dataset, 'holistic', metrics=['MAE'])\n",
        "STATS(dataset, approach='holistic')"
      ],
      "metadata": {
        "id": "RYSPWBFc0fFq"
      },
      "execution_count": null,
      "outputs": []
    },
    {
      "cell_type": "code",
      "source": [
        "## -- Median\n",
        "ANALYSIS(dataset, 'median', metrics=['MAE'])\n",
        "STATS(dataset, approach='median')"
      ],
      "metadata": {
        "id": "sINByvTtSc5i"
      },
      "execution_count": null,
      "outputs": []
    },
    {
      "cell_type": "code",
      "source": [
        "## -- Clustering\n",
        "ANALYSIS(dataset, 'clustering', metrics=['MAE'])\n",
        "STATS(dataset, approach='clustering')"
      ],
      "metadata": {
        "id": "_Fn907kNXNHX"
      },
      "execution_count": null,
      "outputs": []
    },
    {
      "cell_type": "code",
      "source": [
        "## -- Deep \n",
        "ANALYSIS(dataset, 'deep', metrics=['MAE'])\n",
        "STATS(dataset, approach='deep')"
      ],
      "metadata": {
        "id": "LHqsY3J-OrXm"
      },
      "execution_count": null,
      "outputs": []
    },
    {
      "cell_type": "markdown",
      "source": [
        "#Details"
      ],
      "metadata": {
        "id": "X60RSuv6ZjrT"
      }
    },
    {
      "cell_type": "code",
      "source": [
        "# Analysis - holistic\n",
        "\n",
        "method = 'holistic'\n",
        "DETAILS(dataset, method, metric='MAE')"
      ],
      "metadata": {
        "id": "JsBnwFGQ1sc7"
      },
      "execution_count": null,
      "outputs": []
    },
    {
      "cell_type": "code",
      "source": [
        "# Analysis - median\n",
        "metric='MAE'\n",
        "method = 'median'\n",
        "DETAILS(dataset, method, metric)"
      ],
      "metadata": {
        "id": "T8Hh7PkeVKWV"
      },
      "execution_count": null,
      "outputs": []
    },
    {
      "cell_type": "code",
      "source": [
        "# Analysis - clustering\n",
        "metric='MAE'\n",
        "method = 'clustering'\n",
        "DETAILS(dataset, method, metric)"
      ],
      "metadata": {
        "id": "TcnU5TAEzA-E"
      },
      "execution_count": null,
      "outputs": []
    },
    {
      "cell_type": "markdown",
      "source": [
        "# Multidataset"
      ],
      "metadata": {
        "id": "prd4IqHqKgNe"
      }
    },
    {
      "cell_type": "code",
      "source": [
        "# multi dataset\n",
        "#path = path_results + 'h5_collection'\n",
        "#st = StatAnalysis(path, join_data=True)\n",
        "#fig = st.displayBoxPlot(metric='PCC')\n",
        "#fig.show(renderer = \"colab\")\n"
      ],
      "metadata": {
        "id": "VX7I12SdVxUP"
      },
      "execution_count": null,
      "outputs": []
    },
    {
      "cell_type": "markdown",
      "source": [
        "# Save in HTML format"
      ],
      "metadata": {
        "id": "CkxyOpFsmgFw"
      }
    },
    {
      "cell_type": "code",
      "source": [
        "!jupyter nbconvert --to html --template lab run_on_dataset.ipynb"
      ],
      "metadata": {
        "id": "R-A0Vgg3mjZ9"
      },
      "execution_count": null,
      "outputs": []
    }
  ],
  "metadata": {
    "colab": {
      "private_outputs": true,
      "provenance": [],
      "collapsed_sections": [
        "prd4IqHqKgNe"
      ],
      "include_colab_link": true
    },
    "kernelspec": {
      "display_name": "Python 3",
      "language": "python",
      "name": "python3"
    },
    "language_info": {
      "codemirror_mode": {
        "name": "ipython",
        "version": 3
      },
      "file_extension": ".py",
      "mimetype": "text/x-python",
      "name": "python",
      "nbconvert_exporter": "python",
      "pygments_lexer": "ipython3",
      "version": "3.8.5"
    }
  },
  "nbformat": 4,
  "nbformat_minor": 0
}